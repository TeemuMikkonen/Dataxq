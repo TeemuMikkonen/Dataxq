{
  "nbformat": 4,
  "nbformat_minor": 0,
  "metadata": {
    "colab": {
      "name": "Solita x Man@ger.ipynb",
      "provenance": [],
      "include_colab_link": true
    },
    "kernelspec": {
      "name": "python3",
      "display_name": "Python 3"
    },
    "language_info": {
      "name": "python"
    }
  },
  "cells": [
    {
      "cell_type": "markdown",
      "metadata": {
        "id": "view-in-github",
        "colab_type": "text"
      },
      "source": [
        "<a href=\"https://colab.research.google.com/github/TeemuMikkonen/Dataxq/blob/main/Solita_x_Manager.ipynb\" target=\"_parent\"><img src=\"https://colab.research.google.com/assets/colab-badge.svg\" alt=\"Open In Colab\"/></a>"
      ]
    },
    {
      "cell_type": "markdown",
      "metadata": {
        "id": "Y_6sNr6WwAcb"
      },
      "source": [
        "![solitalogo.png](data:image/png;base64,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)\n"
      ]
    },
    {
      "cell_type": "markdown",
      "metadata": {
        "id": "bLkNSnvADHZv"
      },
      "source": [
        "## Google Colaboratory\n",
        "\n",
        "- Googlen ylläpitämä ilmainen Notebook-palvelu\n",
        "- Helppo jakaa koodia ja työskennellä yhdessä mm. dataprojekteissa. (Tai harkkatöissä)\n",
        "- Saatavilla myös laskentatehoa (GPU & TPU -prosessointi)\n",
        "  >- Yläpalkki\n",
        "  >- Runtime\n",
        "  >- Change runtime type\n",
        "  >- Hardware accelerator\n",
        "  >- GPU \n",
        "\n",
        "- Tähän harjoitukseen ei kuitenkaan tarvita lisälaskentatehoa, datamäärät ovat pieniä ja käytettävät kirjastot eivät vaadi GPU-resursseja\n",
        "- HUOM. Saatavat laskentaresurssit riippuvat vapaana olevasta kapasiteetista, laskentateho ei näin ollen ole vakio. \n",
        "\n",
        "#### Hyödyllisiä pikakomentoja\n",
        "> - ctrl/cmd + enter = suorita solu\n",
        "> - shift + enter = suorita solu ja siirry seuraavaan\n",
        "> - ctrl/cmd + m + b = luo solu alapuolelle\n",
        "> - ctrl/cmd + m + a = luo solu yläpuolelle\n",
        "> - ctrl/cmd + d + d = poista solut\n"
      ]
    },
    {
      "cell_type": "markdown",
      "metadata": {
        "id": "xvm7mQauwc6t"
      },
      "source": [
        "## Case: Asiakaspoistuman ennustaminen (Customer churn)\n",
        "- Klassinen Data Science -esimerkkicase\n",
        "- Dataprojekti, joka alkaa raakadatan vastaanottamisesta, käsittelystä ja tietokantaan kirjoittamisesta ja lopputuotteesta, joka tässä projektissa on asiakaspoistumaa ennustava koneoppimismalli"
      ]
    },
    {
      "cell_type": "code",
      "metadata": {
        "id": "SVlWN8yBBM2L"
      },
      "source": [
        "import requests as r\n",
        "import json\n",
        "import pandas as pd\n",
        "import os\n",
        "import plotly.express as px\n",
        "from sklearn.metrics import classification_report, accuracy_score\n",
        "from sklearn.ensemble import RandomForestClassifier\n",
        "from sklearn.model_selection import train_test_split"
      ],
      "execution_count": null,
      "outputs": []
    },
    {
      "cell_type": "markdown",
      "metadata": {
        "id": "7zrP70_oMf8U"
      },
      "source": [
        ""
      ]
    },
    {
      "cell_type": "code",
      "metadata": {
        "id": "eh94oM-pJRNf",
        "colab": {
          "base_uri": "https://localhost:8080/",
          "height": 242
        },
        "outputId": "82a4b7af-b2b7-405c-f40e-1141d8ef9511"
      },
      "source": [
        "!pip install awscli\n",
        "\"AWScli asennettu\""
      ],
      "execution_count": null,
      "outputs": [
        {
          "output_type": "stream",
          "name": "stdout",
          "text": [
            "Requirement already satisfied: awscli in /usr/local/lib/python3.7/dist-packages (1.21.1)\n",
            "Requirement already satisfied: PyYAML<5.5,>=3.10 in /usr/local/lib/python3.7/dist-packages (from awscli) (3.13)\n",
            "Requirement already satisfied: colorama<0.4.4,>=0.2.5 in /usr/local/lib/python3.7/dist-packages (from awscli) (0.4.3)\n",
            "Requirement already satisfied: docutils<0.16,>=0.10 in /usr/local/lib/python3.7/dist-packages (from awscli) (0.15.2)\n",
            "Requirement already satisfied: rsa<4.8,>=3.1.2 in /usr/local/lib/python3.7/dist-packages (from awscli) (4.7.2)\n",
            "Requirement already satisfied: botocore==1.22.1 in /usr/local/lib/python3.7/dist-packages (from awscli) (1.22.1)\n",
            "Requirement already satisfied: s3transfer<0.6.0,>=0.5.0 in /usr/local/lib/python3.7/dist-packages (from awscli) (0.5.0)\n",
            "Requirement already satisfied: urllib3<1.27,>=1.25.4 in /usr/local/lib/python3.7/dist-packages (from botocore==1.22.1->awscli) (1.26.7)\n",
            "Requirement already satisfied: python-dateutil<3.0.0,>=2.1 in /usr/local/lib/python3.7/dist-packages (from botocore==1.22.1->awscli) (2.8.2)\n",
            "Requirement already satisfied: jmespath<1.0.0,>=0.7.1 in /usr/local/lib/python3.7/dist-packages (from botocore==1.22.1->awscli) (0.10.0)\n",
            "Requirement already satisfied: six>=1.5 in /usr/local/lib/python3.7/dist-packages (from python-dateutil<3.0.0,>=2.1->botocore==1.22.1->awscli) (1.15.0)\n",
            "Requirement already satisfied: pyasn1>=0.1.3 in /usr/local/lib/python3.7/dist-packages (from rsa<4.8,>=3.1.2->awscli) (0.4.8)\n"
          ]
        },
        {
          "output_type": "execute_result",
          "data": {
            "application/vnd.google.colaboratory.intrinsic+json": {
              "type": "string"
            },
            "text/plain": [
              "'AWScli asennettu'"
            ]
          },
          "metadata": {},
          "execution_count": 16
        }
      ]
    },
    {
      "cell_type": "markdown",
      "metadata": {
        "id": "XtuZDywEwaJ1"
      },
      "source": [
        "## Datan kerääminen\n",
        "\n",
        "Data luetaan AWS-pilvitarjoajan S3-bucketista. Simple Storage Service (S3) on tapa säilöä rakenteetonta dataa, kuten tiedostoja, kuvia, videoita jne.\n",
        "\n",
        "Data Engineerin työsarka alkaa datan keräämisestä. Yleinen menetelmä datan siirtoon lähdejärjestelmästä, on kirjoittaa se tiedostoon S3-bucketin tyyppiseen tallennustilaan, josta se voidaan lukea haluttuun muotoon esimerkiksi Pythonin tai ELT/ETL-työkalun avulla"
      ]
    },
    {
      "cell_type": "code",
      "metadata": {
        "id": "V6D0qct9wLyG",
        "colab": {
          "base_uri": "https://localhost:8080/"
        },
        "outputId": "f65da630-d14f-487f-afc9-6e1060cdf1f8"
      },
      "source": [
        "#Haetaan data S3-bucketista COLABin hakemistorakenteeseen\n",
        "\n",
        "!aws s3 --no-sign-request cp s3://manager-dataxq/ . --recursive"
      ],
      "execution_count": null,
      "outputs": [
        {
          "output_type": "stream",
          "name": "stdout",
          "text": [
            "Completed 71.7 KiB/316.5 KiB (104.0 KiB/s) with 4 file(s) remaining\rdownload: s3://manager-dataxq/data/telecom_churn_20201021_1.csv to data/telecom_churn_20201021_1.csv\n",
            "Completed 71.7 KiB/316.5 KiB (104.0 KiB/s) with 3 file(s) remaining\rCompleted 143.4 KiB/316.5 KiB (206.0 KiB/s) with 3 file(s) remaining\rdownload: s3://manager-dataxq/data/telecom_churn_20201021_2.csv to data/telecom_churn_20201021_2.csv\n",
            "Completed 143.4 KiB/316.5 KiB (206.0 KiB/s) with 2 file(s) remaining\rCompleted 221.2 KiB/316.5 KiB (313.7 KiB/s) with 2 file(s) remaining\rdownload: s3://manager-dataxq/data/d_account.csv to data/d_account.csv\n",
            "Completed 221.2 KiB/316.5 KiB (313.7 KiB/s) with 1 file(s) remaining\rCompleted 316.5 KiB/316.5 KiB (389.2 KiB/s) with 1 file(s) remaining\rdownload: s3://manager-dataxq/data/telecom_churn_20201021_3.csv to data/telecom_churn_20201021_3.csv\n"
          ]
        }
      ]
    },
    {
      "cell_type": "markdown",
      "metadata": {
        "id": "Zwd6UGtbyZa_"
      },
      "source": [
        "# Eksploratiivinen analyysi\n",
        "\n",
        "Data Engineerin / Data Scientistin työssä dataan tutustuminen on tärkeää. Data voi poiketa paljonkin siitä, minkälaiseksi asiakas on sen kuvannut. Vaikka datan sisältö olisi dokumentoitu, dokumentointi ei välttämättä pidä sisällään tietoa siitä, käytetäänkö kaikkia kenttiä asianmukaisesti.\n",
        "\n",
        "Tutkitaan mitä dataa hakemistosta luettiin, ja mitä tiedostot pitävät sisällään"
      ]
    },
    {
      "cell_type": "code",
      "metadata": {
        "colab": {
          "base_uri": "https://localhost:8080/"
        },
        "id": "Dl9H28XZzprL",
        "outputId": "9e4bdf63-c1ae-4f70-c44f-9fc1d80f259b"
      },
      "source": [
        "!ls data"
      ],
      "execution_count": null,
      "outputs": [
        {
          "output_type": "stream",
          "name": "stdout",
          "text": [
            "d_account.csv  telecom_churn_20201021_1.csv  telecom_churn_20201021_3.csv\n",
            "data\t       telecom_churn_20201021_2.csv\n"
          ]
        }
      ]
    },
    {
      "cell_type": "markdown",
      "metadata": {
        "id": "vHb5OvaZbmao"
      },
      "source": [
        "### Pandas DataFrame\n",
        "DataFrame on \n"
      ]
    },
    {
      "cell_type": "code",
      "metadata": {
        "colab": {
          "base_uri": "https://localhost:8080/",
          "height": 241
        },
        "id": "Kb-7ea-zyegr",
        "outputId": "5433bf9d-f32a-4e93-bcdd-0c9ea0010123"
      },
      "source": [
        "# Luetaan tiedosto Pandas D\n",
        "df_exp = pd.read_csv(\"data/telecom_churn_20201021_1.csv\")\n",
        "\n",
        "print(\"Rivejä: \", df_exp.shape[0], \"Sarakkeita\", df_exp.shape[1], \"\\n\")\n",
        "df_exp.head()"
      ],
      "execution_count": null,
      "outputs": [
        {
          "output_type": "stream",
          "name": "stdout",
          "text": [
            "Rivejä:  1000 Sarakkeita 16 \n",
            "\n"
          ]
        },
        {
          "output_type": "execute_result",
          "data": {
            "text/html": [
              "<div>\n",
              "<style scoped>\n",
              "    .dataframe tbody tr th:only-of-type {\n",
              "        vertical-align: middle;\n",
              "    }\n",
              "\n",
              "    .dataframe tbody tr th {\n",
              "        vertical-align: top;\n",
              "    }\n",
              "\n",
              "    .dataframe thead th {\n",
              "        text-align: right;\n",
              "    }\n",
              "</style>\n",
              "<table border=\"1\" class=\"dataframe\">\n",
              "  <thead>\n",
              "    <tr style=\"text-align: right;\">\n",
              "      <th></th>\n",
              "      <th>account_id</th>\n",
              "      <th>Number vmail messages</th>\n",
              "      <th>Total day minutes</th>\n",
              "      <th>Total day calls</th>\n",
              "      <th>Total day charge</th>\n",
              "      <th>Total eve minutes</th>\n",
              "      <th>Total eve calls</th>\n",
              "      <th>Total eve charge</th>\n",
              "      <th>Total night minutes</th>\n",
              "      <th>Total night calls</th>\n",
              "      <th>Total night charge</th>\n",
              "      <th>Total intl minutes</th>\n",
              "      <th>Total intl calls</th>\n",
              "      <th>Total intl charge</th>\n",
              "      <th>Customer service calls</th>\n",
              "      <th>Churn</th>\n",
              "    </tr>\n",
              "  </thead>\n",
              "  <tbody>\n",
              "    <tr>\n",
              "      <th>0</th>\n",
              "      <td>10001</td>\n",
              "      <td>25</td>\n",
              "      <td>265.1</td>\n",
              "      <td>110</td>\n",
              "      <td>45.07</td>\n",
              "      <td>197.4</td>\n",
              "      <td>99</td>\n",
              "      <td>16.78</td>\n",
              "      <td>244.7</td>\n",
              "      <td>91</td>\n",
              "      <td>11.01</td>\n",
              "      <td>10.0</td>\n",
              "      <td>3</td>\n",
              "      <td>2.70</td>\n",
              "      <td>1</td>\n",
              "      <td>False</td>\n",
              "    </tr>\n",
              "    <tr>\n",
              "      <th>1</th>\n",
              "      <td>10002</td>\n",
              "      <td>26</td>\n",
              "      <td>161.6</td>\n",
              "      <td>123</td>\n",
              "      <td>27.47</td>\n",
              "      <td>195.5</td>\n",
              "      <td>103</td>\n",
              "      <td>16.62</td>\n",
              "      <td>254.4</td>\n",
              "      <td>103</td>\n",
              "      <td>11.45</td>\n",
              "      <td>13.7</td>\n",
              "      <td>3</td>\n",
              "      <td>3.70</td>\n",
              "      <td>1</td>\n",
              "      <td>False</td>\n",
              "    </tr>\n",
              "    <tr>\n",
              "      <th>2</th>\n",
              "      <td>10003</td>\n",
              "      <td>0</td>\n",
              "      <td>243.4</td>\n",
              "      <td>114</td>\n",
              "      <td>41.38</td>\n",
              "      <td>121.2</td>\n",
              "      <td>110</td>\n",
              "      <td>10.30</td>\n",
              "      <td>162.6</td>\n",
              "      <td>104</td>\n",
              "      <td>7.32</td>\n",
              "      <td>12.2</td>\n",
              "      <td>5</td>\n",
              "      <td>3.29</td>\n",
              "      <td>0</td>\n",
              "      <td>False</td>\n",
              "    </tr>\n",
              "    <tr>\n",
              "      <th>3</th>\n",
              "      <td>10004</td>\n",
              "      <td>0</td>\n",
              "      <td>299.4</td>\n",
              "      <td>71</td>\n",
              "      <td>50.90</td>\n",
              "      <td>61.9</td>\n",
              "      <td>88</td>\n",
              "      <td>5.26</td>\n",
              "      <td>196.9</td>\n",
              "      <td>89</td>\n",
              "      <td>8.86</td>\n",
              "      <td>6.6</td>\n",
              "      <td>7</td>\n",
              "      <td>1.78</td>\n",
              "      <td>2</td>\n",
              "      <td>False</td>\n",
              "    </tr>\n",
              "    <tr>\n",
              "      <th>4</th>\n",
              "      <td>10005</td>\n",
              "      <td>0</td>\n",
              "      <td>166.7</td>\n",
              "      <td>113</td>\n",
              "      <td>28.34</td>\n",
              "      <td>148.3</td>\n",
              "      <td>122</td>\n",
              "      <td>12.61</td>\n",
              "      <td>186.9</td>\n",
              "      <td>121</td>\n",
              "      <td>8.41</td>\n",
              "      <td>10.1</td>\n",
              "      <td>3</td>\n",
              "      <td>2.73</td>\n",
              "      <td>3</td>\n",
              "      <td>False</td>\n",
              "    </tr>\n",
              "  </tbody>\n",
              "</table>\n",
              "</div>"
            ],
            "text/plain": [
              "   account_id  Number vmail messages  ...  Customer service calls  Churn\n",
              "0       10001                     25  ...                       1  False\n",
              "1       10002                     26  ...                       1  False\n",
              "2       10003                      0  ...                       0  False\n",
              "3       10004                      0  ...                       2  False\n",
              "4       10005                      0  ...                       3  False\n",
              "\n",
              "[5 rows x 16 columns]"
            ]
          },
          "metadata": {},
          "execution_count": 19
        }
      ]
    },
    {
      "cell_type": "markdown",
      "metadata": {
        "id": "kU5nqH-E4XHz"
      },
      "source": [
        "Luettu data sisältää myös dimensiotaulun \"account\". Dimensiotaulut liitetään faktaan yhteisen ID:n avulla"
      ]
    },
    {
      "cell_type": "code",
      "metadata": {
        "colab": {
          "base_uri": "https://localhost:8080/",
          "height": 241
        },
        "id": "eJtO6w964Dk9",
        "outputId": "b1c101c2-91be-4d23-faee-b8bd60cc6bd9"
      },
      "source": [
        "df_dim = pd.read_csv(\"data/d_account.csv\")\n",
        "\n",
        "print(\"Rivejä: \", df_dim.shape[0], \"Sarakkeita\", df_dim.shape[1], \"\\n\")\n",
        "df_dim.head()"
      ],
      "execution_count": null,
      "outputs": [
        {
          "output_type": "stream",
          "name": "stdout",
          "text": [
            "Rivejä:  3333 Sarakkeita 6 \n",
            "\n"
          ]
        },
        {
          "output_type": "execute_result",
          "data": {
            "text/html": [
              "<div>\n",
              "<style scoped>\n",
              "    .dataframe tbody tr th:only-of-type {\n",
              "        vertical-align: middle;\n",
              "    }\n",
              "\n",
              "    .dataframe tbody tr th {\n",
              "        vertical-align: top;\n",
              "    }\n",
              "\n",
              "    .dataframe thead th {\n",
              "        text-align: right;\n",
              "    }\n",
              "</style>\n",
              "<table border=\"1\" class=\"dataframe\">\n",
              "  <thead>\n",
              "    <tr style=\"text-align: right;\">\n",
              "      <th></th>\n",
              "      <th>account_id</th>\n",
              "      <th>State</th>\n",
              "      <th>Account length</th>\n",
              "      <th>Area code</th>\n",
              "      <th>International plan</th>\n",
              "      <th>Voice mail plan</th>\n",
              "    </tr>\n",
              "  </thead>\n",
              "  <tbody>\n",
              "    <tr>\n",
              "      <th>0</th>\n",
              "      <td>10001</td>\n",
              "      <td>KS</td>\n",
              "      <td>128</td>\n",
              "      <td>415</td>\n",
              "      <td>No</td>\n",
              "      <td>Yes</td>\n",
              "    </tr>\n",
              "    <tr>\n",
              "      <th>1</th>\n",
              "      <td>10002</td>\n",
              "      <td>OH</td>\n",
              "      <td>107</td>\n",
              "      <td>415</td>\n",
              "      <td>No</td>\n",
              "      <td>Yes</td>\n",
              "    </tr>\n",
              "    <tr>\n",
              "      <th>2</th>\n",
              "      <td>10003</td>\n",
              "      <td>NJ</td>\n",
              "      <td>137</td>\n",
              "      <td>415</td>\n",
              "      <td>No</td>\n",
              "      <td>No</td>\n",
              "    </tr>\n",
              "    <tr>\n",
              "      <th>3</th>\n",
              "      <td>10004</td>\n",
              "      <td>OH</td>\n",
              "      <td>84</td>\n",
              "      <td>408</td>\n",
              "      <td>Yes</td>\n",
              "      <td>No</td>\n",
              "    </tr>\n",
              "    <tr>\n",
              "      <th>4</th>\n",
              "      <td>10005</td>\n",
              "      <td>OK</td>\n",
              "      <td>75</td>\n",
              "      <td>415</td>\n",
              "      <td>Yes</td>\n",
              "      <td>No</td>\n",
              "    </tr>\n",
              "  </tbody>\n",
              "</table>\n",
              "</div>"
            ],
            "text/plain": [
              "   account_id State  ...  International plan  Voice mail plan\n",
              "0       10001    KS  ...                  No              Yes\n",
              "1       10002    OH  ...                  No              Yes\n",
              "2       10003    NJ  ...                  No               No\n",
              "3       10004    OH  ...                 Yes               No\n",
              "4       10005    OK  ...                 Yes               No\n",
              "\n",
              "[5 rows x 6 columns]"
            ]
          },
          "metadata": {},
          "execution_count": 21
        }
      ]
    },
    {
      "cell_type": "markdown",
      "metadata": {
        "id": "zrAyjI7U6c2l"
      },
      "source": [
        "# Datasetin muodostus ja siivous\n",
        "\n",
        "Asiakaspoistuma-analyysissä käytettävä data on jaettu useaan tiedostoon. Tämä voi olla esimerkiksi lähdejärjestelmän ja S3-bucketin välisen ETL:n ominaisuus, jossa määritellään tiedostoista halutun kokoisia, jolloin esimerkiksi latausaikoja on helpompi arvioida. \n",
        "\n",
        "Luetaan faktataulu telecom_churn yhteen DataFrameen"
      ]
    },
    {
      "cell_type": "code",
      "metadata": {
        "id": "kEQekC8x7Uq7",
        "colab": {
          "base_uri": "https://localhost:8080/",
          "height": 206
        },
        "outputId": "e158e62c-31bc-4aa0-b1b1-02f628e013e5"
      },
      "source": [
        "df_churn = pd.concat([pd.read_csv(\"data/\" + i) for i in os.listdir(\"data\") if i.startswith(\"telecom\")])\n",
        "df_churn.head()"
      ],
      "execution_count": null,
      "outputs": [
        {
          "output_type": "execute_result",
          "data": {
            "text/html": [
              "<div>\n",
              "<style scoped>\n",
              "    .dataframe tbody tr th:only-of-type {\n",
              "        vertical-align: middle;\n",
              "    }\n",
              "\n",
              "    .dataframe tbody tr th {\n",
              "        vertical-align: top;\n",
              "    }\n",
              "\n",
              "    .dataframe thead th {\n",
              "        text-align: right;\n",
              "    }\n",
              "</style>\n",
              "<table border=\"1\" class=\"dataframe\">\n",
              "  <thead>\n",
              "    <tr style=\"text-align: right;\">\n",
              "      <th></th>\n",
              "      <th>account_id</th>\n",
              "      <th>Number vmail messages</th>\n",
              "      <th>Total day minutes</th>\n",
              "      <th>Total day calls</th>\n",
              "      <th>Total day charge</th>\n",
              "      <th>Total eve minutes</th>\n",
              "      <th>Total eve calls</th>\n",
              "      <th>Total eve charge</th>\n",
              "      <th>Total night minutes</th>\n",
              "      <th>Total night calls</th>\n",
              "      <th>Total night charge</th>\n",
              "      <th>Total intl minutes</th>\n",
              "      <th>Total intl calls</th>\n",
              "      <th>Total intl charge</th>\n",
              "      <th>Customer service calls</th>\n",
              "      <th>Churn</th>\n",
              "    </tr>\n",
              "  </thead>\n",
              "  <tbody>\n",
              "    <tr>\n",
              "      <th>0</th>\n",
              "      <td>12001</td>\n",
              "      <td>0</td>\n",
              "      <td>168.2</td>\n",
              "      <td>87</td>\n",
              "      <td>28.59</td>\n",
              "      <td>161.7</td>\n",
              "      <td>92</td>\n",
              "      <td>13.74</td>\n",
              "      <td>192.4</td>\n",
              "      <td>112</td>\n",
              "      <td>8.66</td>\n",
              "      <td>10.1</td>\n",
              "      <td>3</td>\n",
              "      <td>2.73</td>\n",
              "      <td>3</td>\n",
              "      <td>False</td>\n",
              "    </tr>\n",
              "    <tr>\n",
              "      <th>1</th>\n",
              "      <td>12002</td>\n",
              "      <td>0</td>\n",
              "      <td>286.4</td>\n",
              "      <td>109</td>\n",
              "      <td>48.69</td>\n",
              "      <td>178.2</td>\n",
              "      <td>67</td>\n",
              "      <td>15.15</td>\n",
              "      <td>214.2</td>\n",
              "      <td>152</td>\n",
              "      <td>9.64</td>\n",
              "      <td>10.7</td>\n",
              "      <td>14</td>\n",
              "      <td>2.89</td>\n",
              "      <td>1</td>\n",
              "      <td>True</td>\n",
              "    </tr>\n",
              "    <tr>\n",
              "      <th>2</th>\n",
              "      <td>12003</td>\n",
              "      <td>0</td>\n",
              "      <td>174.3</td>\n",
              "      <td>95</td>\n",
              "      <td>29.63</td>\n",
              "      <td>186.6</td>\n",
              "      <td>128</td>\n",
              "      <td>15.86</td>\n",
              "      <td>258.2</td>\n",
              "      <td>105</td>\n",
              "      <td>11.62</td>\n",
              "      <td>12.9</td>\n",
              "      <td>5</td>\n",
              "      <td>3.48</td>\n",
              "      <td>3</td>\n",
              "      <td>False</td>\n",
              "    </tr>\n",
              "    <tr>\n",
              "      <th>3</th>\n",
              "      <td>12004</td>\n",
              "      <td>0</td>\n",
              "      <td>190.6</td>\n",
              "      <td>100</td>\n",
              "      <td>32.40</td>\n",
              "      <td>161.7</td>\n",
              "      <td>104</td>\n",
              "      <td>13.74</td>\n",
              "      <td>189.9</td>\n",
              "      <td>136</td>\n",
              "      <td>8.55</td>\n",
              "      <td>13.0</td>\n",
              "      <td>6</td>\n",
              "      <td>3.51</td>\n",
              "      <td>1</td>\n",
              "      <td>False</td>\n",
              "    </tr>\n",
              "    <tr>\n",
              "      <th>4</th>\n",
              "      <td>12005</td>\n",
              "      <td>0</td>\n",
              "      <td>175.5</td>\n",
              "      <td>86</td>\n",
              "      <td>29.84</td>\n",
              "      <td>205.1</td>\n",
              "      <td>78</td>\n",
              "      <td>17.43</td>\n",
              "      <td>245.2</td>\n",
              "      <td>100</td>\n",
              "      <td>11.03</td>\n",
              "      <td>17.8</td>\n",
              "      <td>3</td>\n",
              "      <td>4.81</td>\n",
              "      <td>4</td>\n",
              "      <td>False</td>\n",
              "    </tr>\n",
              "  </tbody>\n",
              "</table>\n",
              "</div>"
            ],
            "text/plain": [
              "   account_id  Number vmail messages  ...  Customer service calls  Churn\n",
              "0       12001                      0  ...                       3  False\n",
              "1       12002                      0  ...                       1   True\n",
              "2       12003                      0  ...                       3  False\n",
              "3       12004                      0  ...                       1  False\n",
              "4       12005                      0  ...                       4  False\n",
              "\n",
              "[5 rows x 16 columns]"
            ]
          },
          "metadata": {},
          "execution_count": 101
        }
      ]
    },
    {
      "cell_type": "markdown",
      "metadata": {
        "id": "qJYw_wwts_92"
      },
      "source": [
        "Tästä voidaan huomata, että df_dim- ja df_churn -dataframet käyttävät samaa avainta (account_id) Taulut voidaan siis yhdistää kyseisen avaimen avulla yhdeksi tauluksi. Yhdistämiseen käytetään df.join()-komentoa, jota käytetään hyvin samaan tyyliin kuin esimerkiksi SQL:n join-komentoa"
      ]
    },
    {
      "cell_type": "code",
      "metadata": {
        "colab": {
          "base_uri": "https://localhost:8080/",
          "height": 206
        },
        "id": "pFUWrkIJ9FUS",
        "outputId": "61cc91ba-3e24-46c8-a649-2f98ea644c25"
      },
      "source": [
        "df = df_dim.join(df_churn.set_index('account_id'), on='account_id', how=\"left\")\n",
        "df.head()"
      ],
      "execution_count": null,
      "outputs": [
        {
          "output_type": "execute_result",
          "data": {
            "text/html": [
              "<div>\n",
              "<style scoped>\n",
              "    .dataframe tbody tr th:only-of-type {\n",
              "        vertical-align: middle;\n",
              "    }\n",
              "\n",
              "    .dataframe tbody tr th {\n",
              "        vertical-align: top;\n",
              "    }\n",
              "\n",
              "    .dataframe thead th {\n",
              "        text-align: right;\n",
              "    }\n",
              "</style>\n",
              "<table border=\"1\" class=\"dataframe\">\n",
              "  <thead>\n",
              "    <tr style=\"text-align: right;\">\n",
              "      <th></th>\n",
              "      <th>account_id</th>\n",
              "      <th>State</th>\n",
              "      <th>Account length</th>\n",
              "      <th>Area code</th>\n",
              "      <th>International plan</th>\n",
              "      <th>Voice mail plan</th>\n",
              "      <th>Number vmail messages</th>\n",
              "      <th>Total day minutes</th>\n",
              "      <th>Total day calls</th>\n",
              "      <th>Total day charge</th>\n",
              "      <th>Total eve minutes</th>\n",
              "      <th>Total eve calls</th>\n",
              "      <th>Total eve charge</th>\n",
              "      <th>Total night minutes</th>\n",
              "      <th>Total night calls</th>\n",
              "      <th>Total night charge</th>\n",
              "      <th>Total intl minutes</th>\n",
              "      <th>Total intl calls</th>\n",
              "      <th>Total intl charge</th>\n",
              "      <th>Customer service calls</th>\n",
              "      <th>Churn</th>\n",
              "    </tr>\n",
              "  </thead>\n",
              "  <tbody>\n",
              "    <tr>\n",
              "      <th>0</th>\n",
              "      <td>10001</td>\n",
              "      <td>KS</td>\n",
              "      <td>128</td>\n",
              "      <td>415</td>\n",
              "      <td>No</td>\n",
              "      <td>Yes</td>\n",
              "      <td>25</td>\n",
              "      <td>265.1</td>\n",
              "      <td>110</td>\n",
              "      <td>45.07</td>\n",
              "      <td>197.4</td>\n",
              "      <td>99</td>\n",
              "      <td>16.78</td>\n",
              "      <td>244.7</td>\n",
              "      <td>91</td>\n",
              "      <td>11.01</td>\n",
              "      <td>10.0</td>\n",
              "      <td>3</td>\n",
              "      <td>2.70</td>\n",
              "      <td>1</td>\n",
              "      <td>False</td>\n",
              "    </tr>\n",
              "    <tr>\n",
              "      <th>1</th>\n",
              "      <td>10002</td>\n",
              "      <td>OH</td>\n",
              "      <td>107</td>\n",
              "      <td>415</td>\n",
              "      <td>No</td>\n",
              "      <td>Yes</td>\n",
              "      <td>26</td>\n",
              "      <td>161.6</td>\n",
              "      <td>123</td>\n",
              "      <td>27.47</td>\n",
              "      <td>195.5</td>\n",
              "      <td>103</td>\n",
              "      <td>16.62</td>\n",
              "      <td>254.4</td>\n",
              "      <td>103</td>\n",
              "      <td>11.45</td>\n",
              "      <td>13.7</td>\n",
              "      <td>3</td>\n",
              "      <td>3.70</td>\n",
              "      <td>1</td>\n",
              "      <td>False</td>\n",
              "    </tr>\n",
              "    <tr>\n",
              "      <th>2</th>\n",
              "      <td>10003</td>\n",
              "      <td>NJ</td>\n",
              "      <td>137</td>\n",
              "      <td>415</td>\n",
              "      <td>No</td>\n",
              "      <td>No</td>\n",
              "      <td>0</td>\n",
              "      <td>243.4</td>\n",
              "      <td>114</td>\n",
              "      <td>41.38</td>\n",
              "      <td>121.2</td>\n",
              "      <td>110</td>\n",
              "      <td>10.30</td>\n",
              "      <td>162.6</td>\n",
              "      <td>104</td>\n",
              "      <td>7.32</td>\n",
              "      <td>12.2</td>\n",
              "      <td>5</td>\n",
              "      <td>3.29</td>\n",
              "      <td>0</td>\n",
              "      <td>False</td>\n",
              "    </tr>\n",
              "    <tr>\n",
              "      <th>3</th>\n",
              "      <td>10004</td>\n",
              "      <td>OH</td>\n",
              "      <td>84</td>\n",
              "      <td>408</td>\n",
              "      <td>Yes</td>\n",
              "      <td>No</td>\n",
              "      <td>0</td>\n",
              "      <td>299.4</td>\n",
              "      <td>71</td>\n",
              "      <td>50.90</td>\n",
              "      <td>61.9</td>\n",
              "      <td>88</td>\n",
              "      <td>5.26</td>\n",
              "      <td>196.9</td>\n",
              "      <td>89</td>\n",
              "      <td>8.86</td>\n",
              "      <td>6.6</td>\n",
              "      <td>7</td>\n",
              "      <td>1.78</td>\n",
              "      <td>2</td>\n",
              "      <td>False</td>\n",
              "    </tr>\n",
              "    <tr>\n",
              "      <th>4</th>\n",
              "      <td>10005</td>\n",
              "      <td>OK</td>\n",
              "      <td>75</td>\n",
              "      <td>415</td>\n",
              "      <td>Yes</td>\n",
              "      <td>No</td>\n",
              "      <td>0</td>\n",
              "      <td>166.7</td>\n",
              "      <td>113</td>\n",
              "      <td>28.34</td>\n",
              "      <td>148.3</td>\n",
              "      <td>122</td>\n",
              "      <td>12.61</td>\n",
              "      <td>186.9</td>\n",
              "      <td>121</td>\n",
              "      <td>8.41</td>\n",
              "      <td>10.1</td>\n",
              "      <td>3</td>\n",
              "      <td>2.73</td>\n",
              "      <td>3</td>\n",
              "      <td>False</td>\n",
              "    </tr>\n",
              "  </tbody>\n",
              "</table>\n",
              "</div>"
            ],
            "text/plain": [
              "   account_id State  ...  Customer service calls  Churn\n",
              "0       10001    KS  ...                       1  False\n",
              "1       10002    OH  ...                       1  False\n",
              "2       10003    NJ  ...                       0  False\n",
              "3       10004    OH  ...                       2  False\n",
              "4       10005    OK  ...                       3  False\n",
              "\n",
              "[5 rows x 21 columns]"
            ]
          },
          "metadata": {},
          "execution_count": 103
        }
      ]
    },
    {
      "cell_type": "code",
      "metadata": {
        "id": "3DR-6RTaFvva"
      },
      "source": [
        "total_calls = (\n",
        "    df[\"Total day calls\"]\n",
        "    + df[\"Total eve calls\"]\n",
        "    + df[\"Total night calls\"]\n",
        "    + df[\"Total intl calls\"]\n",
        ")\n",
        "df.insert(loc=len(df.columns), column=\"Total calls\", value=total_calls)\n"
      ],
      "execution_count": null,
      "outputs": []
    },
    {
      "cell_type": "code",
      "metadata": {
        "colab": {
          "base_uri": "https://localhost:8080/",
          "height": 206
        },
        "id": "53MaM0UCEKML",
        "outputId": "f3588c70-859f-4067-ab49-e35671cb761c"
      },
      "source": [
        "df.head()"
      ],
      "execution_count": null,
      "outputs": [
        {
          "output_type": "execute_result",
          "data": {
            "text/html": [
              "<div>\n",
              "<style scoped>\n",
              "    .dataframe tbody tr th:only-of-type {\n",
              "        vertical-align: middle;\n",
              "    }\n",
              "\n",
              "    .dataframe tbody tr th {\n",
              "        vertical-align: top;\n",
              "    }\n",
              "\n",
              "    .dataframe thead th {\n",
              "        text-align: right;\n",
              "    }\n",
              "</style>\n",
              "<table border=\"1\" class=\"dataframe\">\n",
              "  <thead>\n",
              "    <tr style=\"text-align: right;\">\n",
              "      <th></th>\n",
              "      <th>account_id</th>\n",
              "      <th>State</th>\n",
              "      <th>Account length</th>\n",
              "      <th>Area code</th>\n",
              "      <th>International plan</th>\n",
              "      <th>Voice mail plan</th>\n",
              "      <th>Number vmail messages</th>\n",
              "      <th>Total day minutes</th>\n",
              "      <th>Total day calls</th>\n",
              "      <th>Total day charge</th>\n",
              "      <th>Total eve minutes</th>\n",
              "      <th>Total eve calls</th>\n",
              "      <th>Total eve charge</th>\n",
              "      <th>Total night minutes</th>\n",
              "      <th>Total night calls</th>\n",
              "      <th>Total night charge</th>\n",
              "      <th>Total intl minutes</th>\n",
              "      <th>Total intl calls</th>\n",
              "      <th>Total intl charge</th>\n",
              "      <th>Customer service calls</th>\n",
              "      <th>Churn</th>\n",
              "      <th>Total calls</th>\n",
              "    </tr>\n",
              "  </thead>\n",
              "  <tbody>\n",
              "    <tr>\n",
              "      <th>0</th>\n",
              "      <td>10001</td>\n",
              "      <td>KS</td>\n",
              "      <td>128</td>\n",
              "      <td>415</td>\n",
              "      <td>No</td>\n",
              "      <td>Yes</td>\n",
              "      <td>25</td>\n",
              "      <td>265.1</td>\n",
              "      <td>110</td>\n",
              "      <td>45.07</td>\n",
              "      <td>197.4</td>\n",
              "      <td>99</td>\n",
              "      <td>16.78</td>\n",
              "      <td>244.7</td>\n",
              "      <td>91</td>\n",
              "      <td>11.01</td>\n",
              "      <td>10.0</td>\n",
              "      <td>3</td>\n",
              "      <td>2.70</td>\n",
              "      <td>1</td>\n",
              "      <td>False</td>\n",
              "      <td>303</td>\n",
              "    </tr>\n",
              "    <tr>\n",
              "      <th>1</th>\n",
              "      <td>10002</td>\n",
              "      <td>OH</td>\n",
              "      <td>107</td>\n",
              "      <td>415</td>\n",
              "      <td>No</td>\n",
              "      <td>Yes</td>\n",
              "      <td>26</td>\n",
              "      <td>161.6</td>\n",
              "      <td>123</td>\n",
              "      <td>27.47</td>\n",
              "      <td>195.5</td>\n",
              "      <td>103</td>\n",
              "      <td>16.62</td>\n",
              "      <td>254.4</td>\n",
              "      <td>103</td>\n",
              "      <td>11.45</td>\n",
              "      <td>13.7</td>\n",
              "      <td>3</td>\n",
              "      <td>3.70</td>\n",
              "      <td>1</td>\n",
              "      <td>False</td>\n",
              "      <td>332</td>\n",
              "    </tr>\n",
              "    <tr>\n",
              "      <th>2</th>\n",
              "      <td>10003</td>\n",
              "      <td>NJ</td>\n",
              "      <td>137</td>\n",
              "      <td>415</td>\n",
              "      <td>No</td>\n",
              "      <td>No</td>\n",
              "      <td>0</td>\n",
              "      <td>243.4</td>\n",
              "      <td>114</td>\n",
              "      <td>41.38</td>\n",
              "      <td>121.2</td>\n",
              "      <td>110</td>\n",
              "      <td>10.30</td>\n",
              "      <td>162.6</td>\n",
              "      <td>104</td>\n",
              "      <td>7.32</td>\n",
              "      <td>12.2</td>\n",
              "      <td>5</td>\n",
              "      <td>3.29</td>\n",
              "      <td>0</td>\n",
              "      <td>False</td>\n",
              "      <td>333</td>\n",
              "    </tr>\n",
              "    <tr>\n",
              "      <th>3</th>\n",
              "      <td>10004</td>\n",
              "      <td>OH</td>\n",
              "      <td>84</td>\n",
              "      <td>408</td>\n",
              "      <td>Yes</td>\n",
              "      <td>No</td>\n",
              "      <td>0</td>\n",
              "      <td>299.4</td>\n",
              "      <td>71</td>\n",
              "      <td>50.90</td>\n",
              "      <td>61.9</td>\n",
              "      <td>88</td>\n",
              "      <td>5.26</td>\n",
              "      <td>196.9</td>\n",
              "      <td>89</td>\n",
              "      <td>8.86</td>\n",
              "      <td>6.6</td>\n",
              "      <td>7</td>\n",
              "      <td>1.78</td>\n",
              "      <td>2</td>\n",
              "      <td>False</td>\n",
              "      <td>255</td>\n",
              "    </tr>\n",
              "    <tr>\n",
              "      <th>4</th>\n",
              "      <td>10005</td>\n",
              "      <td>OK</td>\n",
              "      <td>75</td>\n",
              "      <td>415</td>\n",
              "      <td>Yes</td>\n",
              "      <td>No</td>\n",
              "      <td>0</td>\n",
              "      <td>166.7</td>\n",
              "      <td>113</td>\n",
              "      <td>28.34</td>\n",
              "      <td>148.3</td>\n",
              "      <td>122</td>\n",
              "      <td>12.61</td>\n",
              "      <td>186.9</td>\n",
              "      <td>121</td>\n",
              "      <td>8.41</td>\n",
              "      <td>10.1</td>\n",
              "      <td>3</td>\n",
              "      <td>2.73</td>\n",
              "      <td>3</td>\n",
              "      <td>False</td>\n",
              "      <td>359</td>\n",
              "    </tr>\n",
              "  </tbody>\n",
              "</table>\n",
              "</div>"
            ],
            "text/plain": [
              "   account_id State  Account length  ...  Customer service calls  Churn Total calls\n",
              "0       10001    KS             128  ...                       1  False         303\n",
              "1       10002    OH             107  ...                       1  False         332\n",
              "2       10003    NJ             137  ...                       0  False         333\n",
              "3       10004    OH              84  ...                       2  False         255\n",
              "4       10005    OK              75  ...                       3  False         359\n",
              "\n",
              "[5 rows x 22 columns]"
            ]
          },
          "metadata": {},
          "execution_count": 30
        }
      ]
    },
    {
      "cell_type": "code",
      "metadata": {
        "id": "Y0b6Ey6-CB9-",
        "colab": {
          "base_uri": "https://localhost:8080/",
          "height": 542
        },
        "outputId": "f2a16266-258c-4b4e-916b-d0b197a282b8"
      },
      "source": [
        "churns = df.loc[df[\"Churn\"] == True ]\n",
        "# suhdeluku osavaltioittain kaikki asiakkaat /churnatut\n",
        "\n",
        "states = churns[\"State\"].value_counts(normalize = True)\n",
        "import plotly.express as px\n",
        "fig = px.choropleth(locations=states.index,\n",
        "                    locationmode=\"USA-states\",\n",
        "                    color=states, scope=\"usa\")\n",
        "  \n",
        "fig.show()"
      ],
      "execution_count": null,
      "outputs": [
        {
          "output_type": "display_data",
          "data": {
            "text/html": [
              "<html>\n",
              "<head><meta charset=\"utf-8\" /></head>\n",
              "<body>\n",
              "    <div>\n",
              "            <script src=\"https://cdnjs.cloudflare.com/ajax/libs/mathjax/2.7.5/MathJax.js?config=TeX-AMS-MML_SVG\"></script><script type=\"text/javascript\">if (window.MathJax) {MathJax.Hub.Config({SVG: {font: \"STIX-Web\"}});}</script>\n",
              "                <script type=\"text/javascript\">window.PlotlyConfig = {MathJaxConfig: 'local'};</script>\n",
              "        <script src=\"https://cdn.plot.ly/plotly-latest.min.js\"></script>    \n",
              "            <div id=\"07b9409c-6a3d-4573-8df4-7bfbaa7e4c8a\" class=\"plotly-graph-div\" style=\"height:525px; width:100%;\"></div>\n",
              "            <script type=\"text/javascript\">\n",
              "                \n",
              "                    window.PLOTLYENV=window.PLOTLYENV || {};\n",
              "                    \n",
              "                if (document.getElementById(\"07b9409c-6a3d-4573-8df4-7bfbaa7e4c8a\")) {\n",
              "                    Plotly.newPlot(\n",
              "                        '07b9409c-6a3d-4573-8df4-7bfbaa7e4c8a',\n",
              "                        [{\"coloraxis\": \"coloraxis\", \"geo\": \"geo\", \"hoverlabel\": {\"namelength\": 0}, \"hovertemplate\": \"locations=%{location}<br>color=%{z}\", \"locationmode\": \"USA-states\", \"locations\": [\"NJ\", \"TX\", \"MD\", \"MI\", \"NY\", \"MN\", \"NV\", \"MS\", \"WA\", \"SC\", \"MT\", \"KS\", \"ME\", \"CT\", \"MA\", \"AR\", \"NC\", \"OR\", \"OH\", \"UT\", \"WV\", \"NH\", \"ID\", \"WY\", \"OK\", \"IN\", \"DE\", \"CA\", \"CO\", \"VT\", \"GA\", \"FL\", \"PA\", \"AL\", \"SD\", \"KY\", \"WI\", \"MO\", \"NM\", \"ND\", \"RI\", \"TN\", \"DC\", \"IL\", \"NE\", \"VA\", \"LA\", \"AZ\", \"HI\", \"AK\", \"IA\"], \"name\": \"\", \"type\": \"choropleth\", \"z\": [0.037267080745341616, 0.037267080745341616, 0.035196687370600416, 0.033126293995859216, 0.031055900621118012, 0.031055900621118012, 0.028985507246376812, 0.028985507246376812, 0.028985507246376812, 0.028985507246376812, 0.028985507246376812, 0.026915113871635612, 0.026915113871635612, 0.024844720496894408, 0.022774327122153208, 0.022774327122153208, 0.022774327122153208, 0.022774327122153208, 0.020703933747412008, 0.020703933747412008, 0.020703933747412008, 0.018633540372670808, 0.018633540372670808, 0.018633540372670808, 0.018633540372670808, 0.018633540372670808, 0.018633540372670808, 0.018633540372670808, 0.018633540372670808, 0.016563146997929608, 0.016563146997929608, 0.016563146997929608, 0.016563146997929608, 0.016563146997929608, 0.016563146997929608, 0.016563146997929608, 0.014492753623188406, 0.014492753623188406, 0.012422360248447204, 0.012422360248447204, 0.012422360248447204, 0.010351966873706004, 0.010351966873706004, 0.010351966873706004, 0.010351966873706004, 0.010351966873706004, 0.008281573498964804, 0.008281573498964804, 0.006211180124223602, 0.006211180124223602, 0.006211180124223602]}],\n",
              "                        {\"coloraxis\": {\"colorbar\": {\"title\": {\"text\": \"color\"}}, \"colorscale\": [[0.0, \"#0d0887\"], [0.1111111111111111, \"#46039f\"], [0.2222222222222222, \"#7201a8\"], [0.3333333333333333, \"#9c179e\"], [0.4444444444444444, \"#bd3786\"], [0.5555555555555556, \"#d8576b\"], [0.6666666666666666, \"#ed7953\"], [0.7777777777777778, \"#fb9f3a\"], [0.8888888888888888, \"#fdca26\"], [1.0, \"#f0f921\"]]}, \"geo\": {\"center\": {}, \"domain\": {\"x\": [0.0, 1.0], \"y\": [0.0, 1.0]}, \"scope\": \"usa\"}, \"legend\": {\"tracegroupgap\": 0}, \"margin\": {\"t\": 60}, \"template\": {\"data\": {\"bar\": [{\"error_x\": {\"color\": \"#2a3f5f\"}, \"error_y\": {\"color\": \"#2a3f5f\"}, \"marker\": {\"line\": {\"color\": \"#E5ECF6\", \"width\": 0.5}}, \"type\": \"bar\"}], \"barpolar\": [{\"marker\": {\"line\": {\"color\": \"#E5ECF6\", \"width\": 0.5}}, \"type\": \"barpolar\"}], \"carpet\": [{\"aaxis\": {\"endlinecolor\": \"#2a3f5f\", \"gridcolor\": \"white\", \"linecolor\": \"white\", \"minorgridcolor\": \"white\", \"startlinecolor\": \"#2a3f5f\"}, \"baxis\": {\"endlinecolor\": \"#2a3f5f\", \"gridcolor\": \"white\", \"linecolor\": \"white\", \"minorgridcolor\": \"white\", \"startlinecolor\": \"#2a3f5f\"}, \"type\": \"carpet\"}], \"choropleth\": [{\"colorbar\": {\"outlinewidth\": 0, \"ticks\": \"\"}, \"type\": \"choropleth\"}], \"contour\": [{\"colorbar\": {\"outlinewidth\": 0, \"ticks\": \"\"}, \"colorscale\": [[0.0, \"#0d0887\"], [0.1111111111111111, \"#46039f\"], [0.2222222222222222, \"#7201a8\"], [0.3333333333333333, \"#9c179e\"], [0.4444444444444444, \"#bd3786\"], [0.5555555555555556, \"#d8576b\"], [0.6666666666666666, \"#ed7953\"], [0.7777777777777778, \"#fb9f3a\"], [0.8888888888888888, \"#fdca26\"], [1.0, \"#f0f921\"]], \"type\": \"contour\"}], \"contourcarpet\": [{\"colorbar\": {\"outlinewidth\": 0, \"ticks\": \"\"}, \"type\": \"contourcarpet\"}], \"heatmap\": [{\"colorbar\": {\"outlinewidth\": 0, \"ticks\": \"\"}, \"colorscale\": [[0.0, \"#0d0887\"], [0.1111111111111111, \"#46039f\"], [0.2222222222222222, \"#7201a8\"], [0.3333333333333333, \"#9c179e\"], [0.4444444444444444, \"#bd3786\"], [0.5555555555555556, \"#d8576b\"], [0.6666666666666666, \"#ed7953\"], [0.7777777777777778, \"#fb9f3a\"], [0.8888888888888888, \"#fdca26\"], [1.0, \"#f0f921\"]], \"type\": \"heatmap\"}], \"heatmapgl\": [{\"colorbar\": {\"outlinewidth\": 0, \"ticks\": \"\"}, \"colorscale\": [[0.0, \"#0d0887\"], [0.1111111111111111, \"#46039f\"], [0.2222222222222222, \"#7201a8\"], [0.3333333333333333, \"#9c179e\"], [0.4444444444444444, \"#bd3786\"], [0.5555555555555556, \"#d8576b\"], [0.6666666666666666, \"#ed7953\"], [0.7777777777777778, \"#fb9f3a\"], [0.8888888888888888, \"#fdca26\"], [1.0, \"#f0f921\"]], \"type\": \"heatmapgl\"}], \"histogram\": [{\"marker\": {\"colorbar\": {\"outlinewidth\": 0, \"ticks\": \"\"}}, \"type\": \"histogram\"}], \"histogram2d\": [{\"colorbar\": {\"outlinewidth\": 0, \"ticks\": \"\"}, \"colorscale\": [[0.0, \"#0d0887\"], [0.1111111111111111, \"#46039f\"], [0.2222222222222222, \"#7201a8\"], [0.3333333333333333, \"#9c179e\"], [0.4444444444444444, \"#bd3786\"], [0.5555555555555556, \"#d8576b\"], [0.6666666666666666, \"#ed7953\"], [0.7777777777777778, \"#fb9f3a\"], [0.8888888888888888, \"#fdca26\"], [1.0, \"#f0f921\"]], \"type\": \"histogram2d\"}], \"histogram2dcontour\": [{\"colorbar\": {\"outlinewidth\": 0, \"ticks\": \"\"}, \"colorscale\": [[0.0, \"#0d0887\"], [0.1111111111111111, \"#46039f\"], [0.2222222222222222, \"#7201a8\"], [0.3333333333333333, \"#9c179e\"], [0.4444444444444444, \"#bd3786\"], [0.5555555555555556, \"#d8576b\"], [0.6666666666666666, \"#ed7953\"], [0.7777777777777778, \"#fb9f3a\"], [0.8888888888888888, \"#fdca26\"], [1.0, \"#f0f921\"]], \"type\": \"histogram2dcontour\"}], \"mesh3d\": [{\"colorbar\": {\"outlinewidth\": 0, \"ticks\": \"\"}, \"type\": \"mesh3d\"}], \"parcoords\": [{\"line\": {\"colorbar\": {\"outlinewidth\": 0, \"ticks\": \"\"}}, \"type\": \"parcoords\"}], \"pie\": [{\"automargin\": true, \"type\": \"pie\"}], \"scatter\": [{\"marker\": {\"colorbar\": {\"outlinewidth\": 0, \"ticks\": \"\"}}, \"type\": \"scatter\"}], \"scatter3d\": [{\"line\": {\"colorbar\": {\"outlinewidth\": 0, \"ticks\": \"\"}}, \"marker\": {\"colorbar\": {\"outlinewidth\": 0, \"ticks\": \"\"}}, \"type\": \"scatter3d\"}], \"scattercarpet\": [{\"marker\": {\"colorbar\": {\"outlinewidth\": 0, \"ticks\": \"\"}}, \"type\": \"scattercarpet\"}], \"scattergeo\": [{\"marker\": {\"colorbar\": {\"outlinewidth\": 0, \"ticks\": \"\"}}, \"type\": \"scattergeo\"}], \"scattergl\": [{\"marker\": {\"colorbar\": {\"outlinewidth\": 0, \"ticks\": \"\"}}, \"type\": \"scattergl\"}], \"scattermapbox\": [{\"marker\": {\"colorbar\": {\"outlinewidth\": 0, \"ticks\": \"\"}}, \"type\": \"scattermapbox\"}], \"scatterpolar\": [{\"marker\": {\"colorbar\": {\"outlinewidth\": 0, \"ticks\": \"\"}}, \"type\": \"scatterpolar\"}], \"scatterpolargl\": [{\"marker\": {\"colorbar\": {\"outlinewidth\": 0, \"ticks\": \"\"}}, \"type\": \"scatterpolargl\"}], \"scatterternary\": [{\"marker\": {\"colorbar\": {\"outlinewidth\": 0, \"ticks\": \"\"}}, \"type\": \"scatterternary\"}], \"surface\": [{\"colorbar\": {\"outlinewidth\": 0, \"ticks\": \"\"}, \"colorscale\": [[0.0, \"#0d0887\"], [0.1111111111111111, \"#46039f\"], [0.2222222222222222, \"#7201a8\"], [0.3333333333333333, \"#9c179e\"], [0.4444444444444444, \"#bd3786\"], [0.5555555555555556, \"#d8576b\"], [0.6666666666666666, \"#ed7953\"], [0.7777777777777778, \"#fb9f3a\"], [0.8888888888888888, \"#fdca26\"], [1.0, \"#f0f921\"]], \"type\": \"surface\"}], \"table\": [{\"cells\": {\"fill\": {\"color\": \"#EBF0F8\"}, \"line\": {\"color\": \"white\"}}, \"header\": {\"fill\": {\"color\": \"#C8D4E3\"}, \"line\": {\"color\": \"white\"}}, \"type\": \"table\"}]}, \"layout\": {\"annotationdefaults\": {\"arrowcolor\": \"#2a3f5f\", \"arrowhead\": 0, \"arrowwidth\": 1}, \"coloraxis\": {\"colorbar\": {\"outlinewidth\": 0, \"ticks\": \"\"}}, \"colorscale\": {\"diverging\": [[0, \"#8e0152\"], [0.1, \"#c51b7d\"], [0.2, \"#de77ae\"], [0.3, \"#f1b6da\"], [0.4, \"#fde0ef\"], [0.5, \"#f7f7f7\"], [0.6, \"#e6f5d0\"], [0.7, \"#b8e186\"], [0.8, \"#7fbc41\"], [0.9, \"#4d9221\"], [1, \"#276419\"]], \"sequential\": [[0.0, \"#0d0887\"], [0.1111111111111111, \"#46039f\"], [0.2222222222222222, \"#7201a8\"], [0.3333333333333333, \"#9c179e\"], [0.4444444444444444, \"#bd3786\"], [0.5555555555555556, \"#d8576b\"], [0.6666666666666666, \"#ed7953\"], [0.7777777777777778, \"#fb9f3a\"], [0.8888888888888888, \"#fdca26\"], [1.0, \"#f0f921\"]], \"sequentialminus\": [[0.0, \"#0d0887\"], [0.1111111111111111, \"#46039f\"], [0.2222222222222222, \"#7201a8\"], [0.3333333333333333, \"#9c179e\"], [0.4444444444444444, \"#bd3786\"], [0.5555555555555556, \"#d8576b\"], [0.6666666666666666, \"#ed7953\"], [0.7777777777777778, \"#fb9f3a\"], [0.8888888888888888, \"#fdca26\"], [1.0, \"#f0f921\"]]}, \"colorway\": [\"#636efa\", \"#EF553B\", \"#00cc96\", \"#ab63fa\", \"#FFA15A\", \"#19d3f3\", \"#FF6692\", \"#B6E880\", \"#FF97FF\", \"#FECB52\"], \"font\": {\"color\": \"#2a3f5f\"}, \"geo\": {\"bgcolor\": \"white\", \"lakecolor\": \"white\", \"landcolor\": \"#E5ECF6\", \"showlakes\": true, \"showland\": true, \"subunitcolor\": \"white\"}, \"hoverlabel\": {\"align\": \"left\"}, \"hovermode\": \"closest\", \"mapbox\": {\"style\": \"light\"}, \"paper_bgcolor\": \"white\", \"plot_bgcolor\": \"#E5ECF6\", \"polar\": {\"angularaxis\": {\"gridcolor\": \"white\", \"linecolor\": \"white\", \"ticks\": \"\"}, \"bgcolor\": \"#E5ECF6\", \"radialaxis\": {\"gridcolor\": \"white\", \"linecolor\": \"white\", \"ticks\": \"\"}}, \"scene\": {\"xaxis\": {\"backgroundcolor\": \"#E5ECF6\", \"gridcolor\": \"white\", \"gridwidth\": 2, \"linecolor\": \"white\", \"showbackground\": true, \"ticks\": \"\", \"zerolinecolor\": \"white\"}, \"yaxis\": {\"backgroundcolor\": \"#E5ECF6\", \"gridcolor\": \"white\", \"gridwidth\": 2, \"linecolor\": \"white\", \"showbackground\": true, \"ticks\": \"\", \"zerolinecolor\": \"white\"}, \"zaxis\": {\"backgroundcolor\": \"#E5ECF6\", \"gridcolor\": \"white\", \"gridwidth\": 2, \"linecolor\": \"white\", \"showbackground\": true, \"ticks\": \"\", \"zerolinecolor\": \"white\"}}, \"shapedefaults\": {\"line\": {\"color\": \"#2a3f5f\"}}, \"ternary\": {\"aaxis\": {\"gridcolor\": \"white\", \"linecolor\": \"white\", \"ticks\": \"\"}, \"baxis\": {\"gridcolor\": \"white\", \"linecolor\": \"white\", \"ticks\": \"\"}, \"bgcolor\": \"#E5ECF6\", \"caxis\": {\"gridcolor\": \"white\", \"linecolor\": \"white\", \"ticks\": \"\"}}, \"title\": {\"x\": 0.05}, \"xaxis\": {\"automargin\": true, \"gridcolor\": \"white\", \"linecolor\": \"white\", \"ticks\": \"\", \"title\": {\"standoff\": 15}, \"zerolinecolor\": \"white\", \"zerolinewidth\": 2}, \"yaxis\": {\"automargin\": true, \"gridcolor\": \"white\", \"linecolor\": \"white\", \"ticks\": \"\", \"title\": {\"standoff\": 15}, \"zerolinecolor\": \"white\", \"zerolinewidth\": 2}}}},\n",
              "                        {\"responsive\": true}\n",
              "                    ).then(function(){\n",
              "                            \n",
              "var gd = document.getElementById('07b9409c-6a3d-4573-8df4-7bfbaa7e4c8a');\n",
              "var x = new MutationObserver(function (mutations, observer) {{\n",
              "        var display = window.getComputedStyle(gd).display;\n",
              "        if (!display || display === 'none') {{\n",
              "            console.log([gd, 'removed!']);\n",
              "            Plotly.purge(gd);\n",
              "            observer.disconnect();\n",
              "        }}\n",
              "}});\n",
              "\n",
              "// Listen for the removal of the full notebook cells\n",
              "var notebookContainer = gd.closest('#notebook-container');\n",
              "if (notebookContainer) {{\n",
              "    x.observe(notebookContainer, {childList: true});\n",
              "}}\n",
              "\n",
              "// Listen for the clearing of the current output cell\n",
              "var outputEl = gd.closest('.output');\n",
              "if (outputEl) {{\n",
              "    x.observe(outputEl, {childList: true});\n",
              "}}\n",
              "\n",
              "                        })\n",
              "                };\n",
              "                \n",
              "            </script>\n",
              "        </div>\n",
              "</body>\n",
              "</html>"
            ]
          },
          "metadata": {}
        }
      ]
    },
    {
      "cell_type": "markdown",
      "metadata": {
        "id": "BFcfXgrVAVGw"
      },
      "source": [
        "# Datan kirjoittaminen tietokantaan\n",
        "\n",
        "Data Engineering -projektien työnkulku on hyvin usein tiedostojen datasisällön lukeminen, käsitteleminen ja kirjoittaminen relaatiotietokantaan. \n",
        "\n",
        "Tässä vaiheessa luodaan SQLite-tietokanta, jonne luodaan taulut d_account ja f_churn"
      ]
    },
    {
      "cell_type": "code",
      "metadata": {
        "colab": {
          "base_uri": "https://localhost:8080/"
        },
        "id": "KwWUQCIz-5aX",
        "outputId": "d6a12a90-f19b-4030-deb3-99f68b38a5d1"
      },
      "source": [
        "import sqlite3\n",
        "from sqlite3 import Error\n",
        "\n",
        "def create_connection(db_file):\n",
        "    \"\"\" create a database connection to a SQLite database \"\"\"\n",
        "    conn = None\n",
        "    try:\n",
        "        conn = sqlite3.connect(db_file)\n",
        "        print(\"Connection succesful\")\n",
        "    except Error as e:\n",
        "        print(e)\n",
        "    \n",
        "    return conn\n",
        "\n",
        "\n",
        "db_name = \"customer_churn.db\"\n",
        "create_connection(db_name)"
      ],
      "execution_count": null,
      "outputs": [
        {
          "output_type": "stream",
          "name": "stdout",
          "text": [
            "Connection succesful\n"
          ]
        },
        {
          "output_type": "execute_result",
          "data": {
            "text/plain": [
              "<sqlite3.Connection at 0x7f3261650570>"
            ]
          },
          "metadata": {},
          "execution_count": 95
        }
      ]
    },
    {
      "cell_type": "code",
      "metadata": {
        "colab": {
          "base_uri": "https://localhost:8080/"
        },
        "id": "X7n6_tUKhW9p",
        "outputId": "08a3e0e9-d18a-4cec-8f3c-ad4e65b2d5a7"
      },
      "source": [
        "def write_db(df, table):\n",
        "\n",
        "    db_name = \"customer_churn.db\"\n",
        "    try:\n",
        "        conn = sqlite3.connect(db_name)\n",
        "        df.to_sql(table, con = conn, if_exists = \"replace\", index = False)\n",
        "        print(\"Insert Successful to table: \" + table)\n",
        "        \n",
        "    except sqlite3.Error as e:\n",
        "        print(e)\n",
        "    conn.close()\n",
        "\n",
        "write_db(df_churn, \"f_customer_churn\")\n",
        "write_db(df_dim, \"d_account\")\n"
      ],
      "execution_count": null,
      "outputs": [
        {
          "output_type": "stream",
          "name": "stdout",
          "text": [
            "Insert Successful to table: f_customer_churn\n",
            "Insert Successful to table: d_account\n"
          ]
        },
        {
          "output_type": "stream",
          "name": "stderr",
          "text": [
            "/usr/local/lib/python3.7/dist-packages/pandas/core/generic.py:2615: UserWarning:\n",
            "\n",
            "The spaces in these column names will not be changed. In pandas versions < 0.14, spaces were converted to underscores.\n",
            "\n"
          ]
        }
      ]
    },
    {
      "cell_type": "markdown",
      "metadata": {
        "id": "jmKgnvVfjc13"
      },
      "source": [
        "## Tietokantakysely\n",
        "\n",
        "Data on nyt kirjoitettu tietokantaan. Dataa voidaan nyt kysellä SQL-lauseilla alla olevan funktion avulla"
      ]
    },
    {
      "cell_type": "code",
      "metadata": {
        "colab": {
          "base_uri": "https://localhost:8080/",
          "height": 424
        },
        "id": "97YpxytGhnI3",
        "outputId": "9076d9e0-ab06-480c-b8ec-715a5c45a94b"
      },
      "source": [
        "def query_db(sql):\n",
        "  try:\n",
        "    conn = sqlite3.connect(db_name)\n",
        "    query = conn.cursor().execute(sql)\n",
        "    cols = [column[0] for column in query.description]\n",
        "\n",
        "    results = pd.DataFrame.from_records(data = query.fetchall(), columns = cols)\n",
        "    display(results)\n",
        "  except sqlite3.Error as e:\n",
        "    print(e)\n",
        "\n",
        "  conn.close()\n",
        "\n",
        "query_db(\"SELECT * FROM d_account acc LEFT JOIN f_customer_churn cc on acc.account_id = cc.account_id\")"
      ],
      "execution_count": null,
      "outputs": [
        {
          "output_type": "display_data",
          "data": {
            "text/html": [
              "<div>\n",
              "<style scoped>\n",
              "    .dataframe tbody tr th:only-of-type {\n",
              "        vertical-align: middle;\n",
              "    }\n",
              "\n",
              "    .dataframe tbody tr th {\n",
              "        vertical-align: top;\n",
              "    }\n",
              "\n",
              "    .dataframe thead th {\n",
              "        text-align: right;\n",
              "    }\n",
              "</style>\n",
              "<table border=\"1\" class=\"dataframe\">\n",
              "  <thead>\n",
              "    <tr style=\"text-align: right;\">\n",
              "      <th></th>\n",
              "      <th>account_id</th>\n",
              "      <th>State</th>\n",
              "      <th>Account length</th>\n",
              "      <th>Area code</th>\n",
              "      <th>International plan</th>\n",
              "      <th>Voice mail plan</th>\n",
              "      <th>account_id</th>\n",
              "      <th>Number vmail messages</th>\n",
              "      <th>Total day minutes</th>\n",
              "      <th>Total day calls</th>\n",
              "      <th>Total day charge</th>\n",
              "      <th>Total eve minutes</th>\n",
              "      <th>Total eve calls</th>\n",
              "      <th>Total eve charge</th>\n",
              "      <th>Total night minutes</th>\n",
              "      <th>Total night calls</th>\n",
              "      <th>Total night charge</th>\n",
              "      <th>Total intl minutes</th>\n",
              "      <th>Total intl calls</th>\n",
              "      <th>Total intl charge</th>\n",
              "      <th>Customer service calls</th>\n",
              "      <th>Churn</th>\n",
              "    </tr>\n",
              "  </thead>\n",
              "  <tbody>\n",
              "    <tr>\n",
              "      <th>0</th>\n",
              "      <td>10001</td>\n",
              "      <td>KS</td>\n",
              "      <td>128</td>\n",
              "      <td>415</td>\n",
              "      <td>No</td>\n",
              "      <td>Yes</td>\n",
              "      <td>10001</td>\n",
              "      <td>25</td>\n",
              "      <td>265.1</td>\n",
              "      <td>110</td>\n",
              "      <td>45.07</td>\n",
              "      <td>197.4</td>\n",
              "      <td>99</td>\n",
              "      <td>16.78</td>\n",
              "      <td>244.7</td>\n",
              "      <td>91</td>\n",
              "      <td>11.01</td>\n",
              "      <td>10.0</td>\n",
              "      <td>3</td>\n",
              "      <td>2.70</td>\n",
              "      <td>1</td>\n",
              "      <td>0</td>\n",
              "    </tr>\n",
              "    <tr>\n",
              "      <th>1</th>\n",
              "      <td>10002</td>\n",
              "      <td>OH</td>\n",
              "      <td>107</td>\n",
              "      <td>415</td>\n",
              "      <td>No</td>\n",
              "      <td>Yes</td>\n",
              "      <td>10002</td>\n",
              "      <td>26</td>\n",
              "      <td>161.6</td>\n",
              "      <td>123</td>\n",
              "      <td>27.47</td>\n",
              "      <td>195.5</td>\n",
              "      <td>103</td>\n",
              "      <td>16.62</td>\n",
              "      <td>254.4</td>\n",
              "      <td>103</td>\n",
              "      <td>11.45</td>\n",
              "      <td>13.7</td>\n",
              "      <td>3</td>\n",
              "      <td>3.70</td>\n",
              "      <td>1</td>\n",
              "      <td>0</td>\n",
              "    </tr>\n",
              "    <tr>\n",
              "      <th>2</th>\n",
              "      <td>10003</td>\n",
              "      <td>NJ</td>\n",
              "      <td>137</td>\n",
              "      <td>415</td>\n",
              "      <td>No</td>\n",
              "      <td>No</td>\n",
              "      <td>10003</td>\n",
              "      <td>0</td>\n",
              "      <td>243.4</td>\n",
              "      <td>114</td>\n",
              "      <td>41.38</td>\n",
              "      <td>121.2</td>\n",
              "      <td>110</td>\n",
              "      <td>10.30</td>\n",
              "      <td>162.6</td>\n",
              "      <td>104</td>\n",
              "      <td>7.32</td>\n",
              "      <td>12.2</td>\n",
              "      <td>5</td>\n",
              "      <td>3.29</td>\n",
              "      <td>0</td>\n",
              "      <td>0</td>\n",
              "    </tr>\n",
              "    <tr>\n",
              "      <th>3</th>\n",
              "      <td>10004</td>\n",
              "      <td>OH</td>\n",
              "      <td>84</td>\n",
              "      <td>408</td>\n",
              "      <td>Yes</td>\n",
              "      <td>No</td>\n",
              "      <td>10004</td>\n",
              "      <td>0</td>\n",
              "      <td>299.4</td>\n",
              "      <td>71</td>\n",
              "      <td>50.90</td>\n",
              "      <td>61.9</td>\n",
              "      <td>88</td>\n",
              "      <td>5.26</td>\n",
              "      <td>196.9</td>\n",
              "      <td>89</td>\n",
              "      <td>8.86</td>\n",
              "      <td>6.6</td>\n",
              "      <td>7</td>\n",
              "      <td>1.78</td>\n",
              "      <td>2</td>\n",
              "      <td>0</td>\n",
              "    </tr>\n",
              "    <tr>\n",
              "      <th>4</th>\n",
              "      <td>10005</td>\n",
              "      <td>OK</td>\n",
              "      <td>75</td>\n",
              "      <td>415</td>\n",
              "      <td>Yes</td>\n",
              "      <td>No</td>\n",
              "      <td>10005</td>\n",
              "      <td>0</td>\n",
              "      <td>166.7</td>\n",
              "      <td>113</td>\n",
              "      <td>28.34</td>\n",
              "      <td>148.3</td>\n",
              "      <td>122</td>\n",
              "      <td>12.61</td>\n",
              "      <td>186.9</td>\n",
              "      <td>121</td>\n",
              "      <td>8.41</td>\n",
              "      <td>10.1</td>\n",
              "      <td>3</td>\n",
              "      <td>2.73</td>\n",
              "      <td>3</td>\n",
              "      <td>0</td>\n",
              "    </tr>\n",
              "    <tr>\n",
              "      <th>...</th>\n",
              "      <td>...</td>\n",
              "      <td>...</td>\n",
              "      <td>...</td>\n",
              "      <td>...</td>\n",
              "      <td>...</td>\n",
              "      <td>...</td>\n",
              "      <td>...</td>\n",
              "      <td>...</td>\n",
              "      <td>...</td>\n",
              "      <td>...</td>\n",
              "      <td>...</td>\n",
              "      <td>...</td>\n",
              "      <td>...</td>\n",
              "      <td>...</td>\n",
              "      <td>...</td>\n",
              "      <td>...</td>\n",
              "      <td>...</td>\n",
              "      <td>...</td>\n",
              "      <td>...</td>\n",
              "      <td>...</td>\n",
              "      <td>...</td>\n",
              "      <td>...</td>\n",
              "    </tr>\n",
              "    <tr>\n",
              "      <th>3328</th>\n",
              "      <td>13329</td>\n",
              "      <td>AZ</td>\n",
              "      <td>192</td>\n",
              "      <td>415</td>\n",
              "      <td>No</td>\n",
              "      <td>Yes</td>\n",
              "      <td>13329</td>\n",
              "      <td>36</td>\n",
              "      <td>156.2</td>\n",
              "      <td>77</td>\n",
              "      <td>26.55</td>\n",
              "      <td>215.5</td>\n",
              "      <td>126</td>\n",
              "      <td>18.32</td>\n",
              "      <td>279.1</td>\n",
              "      <td>83</td>\n",
              "      <td>12.56</td>\n",
              "      <td>9.9</td>\n",
              "      <td>6</td>\n",
              "      <td>2.67</td>\n",
              "      <td>2</td>\n",
              "      <td>0</td>\n",
              "    </tr>\n",
              "    <tr>\n",
              "      <th>3329</th>\n",
              "      <td>13330</td>\n",
              "      <td>WV</td>\n",
              "      <td>68</td>\n",
              "      <td>415</td>\n",
              "      <td>No</td>\n",
              "      <td>No</td>\n",
              "      <td>13330</td>\n",
              "      <td>0</td>\n",
              "      <td>231.1</td>\n",
              "      <td>57</td>\n",
              "      <td>39.29</td>\n",
              "      <td>153.4</td>\n",
              "      <td>55</td>\n",
              "      <td>13.04</td>\n",
              "      <td>191.3</td>\n",
              "      <td>123</td>\n",
              "      <td>8.61</td>\n",
              "      <td>9.6</td>\n",
              "      <td>4</td>\n",
              "      <td>2.59</td>\n",
              "      <td>3</td>\n",
              "      <td>0</td>\n",
              "    </tr>\n",
              "    <tr>\n",
              "      <th>3330</th>\n",
              "      <td>13331</td>\n",
              "      <td>RI</td>\n",
              "      <td>28</td>\n",
              "      <td>510</td>\n",
              "      <td>No</td>\n",
              "      <td>No</td>\n",
              "      <td>13331</td>\n",
              "      <td>0</td>\n",
              "      <td>180.8</td>\n",
              "      <td>109</td>\n",
              "      <td>30.74</td>\n",
              "      <td>288.8</td>\n",
              "      <td>58</td>\n",
              "      <td>24.55</td>\n",
              "      <td>191.9</td>\n",
              "      <td>91</td>\n",
              "      <td>8.64</td>\n",
              "      <td>14.1</td>\n",
              "      <td>6</td>\n",
              "      <td>3.81</td>\n",
              "      <td>2</td>\n",
              "      <td>0</td>\n",
              "    </tr>\n",
              "    <tr>\n",
              "      <th>3331</th>\n",
              "      <td>13332</td>\n",
              "      <td>CT</td>\n",
              "      <td>184</td>\n",
              "      <td>510</td>\n",
              "      <td>Yes</td>\n",
              "      <td>No</td>\n",
              "      <td>13332</td>\n",
              "      <td>0</td>\n",
              "      <td>213.8</td>\n",
              "      <td>105</td>\n",
              "      <td>36.35</td>\n",
              "      <td>159.6</td>\n",
              "      <td>84</td>\n",
              "      <td>13.57</td>\n",
              "      <td>139.2</td>\n",
              "      <td>137</td>\n",
              "      <td>6.26</td>\n",
              "      <td>5.0</td>\n",
              "      <td>10</td>\n",
              "      <td>1.35</td>\n",
              "      <td>2</td>\n",
              "      <td>0</td>\n",
              "    </tr>\n",
              "    <tr>\n",
              "      <th>3332</th>\n",
              "      <td>13333</td>\n",
              "      <td>TN</td>\n",
              "      <td>74</td>\n",
              "      <td>415</td>\n",
              "      <td>No</td>\n",
              "      <td>Yes</td>\n",
              "      <td>13333</td>\n",
              "      <td>25</td>\n",
              "      <td>234.4</td>\n",
              "      <td>113</td>\n",
              "      <td>39.85</td>\n",
              "      <td>265.9</td>\n",
              "      <td>82</td>\n",
              "      <td>22.60</td>\n",
              "      <td>241.4</td>\n",
              "      <td>77</td>\n",
              "      <td>10.86</td>\n",
              "      <td>13.7</td>\n",
              "      <td>4</td>\n",
              "      <td>3.70</td>\n",
              "      <td>0</td>\n",
              "      <td>0</td>\n",
              "    </tr>\n",
              "  </tbody>\n",
              "</table>\n",
              "<p>3333 rows × 22 columns</p>\n",
              "</div>"
            ],
            "text/plain": [
              "      account_id State  ...  Customer service calls  Churn\n",
              "0          10001    KS  ...                       1      0\n",
              "1          10002    OH  ...                       1      0\n",
              "2          10003    NJ  ...                       0      0\n",
              "3          10004    OH  ...                       2      0\n",
              "4          10005    OK  ...                       3      0\n",
              "...          ...   ...  ...                     ...    ...\n",
              "3328       13329    AZ  ...                       2      0\n",
              "3329       13330    WV  ...                       3      0\n",
              "3330       13331    RI  ...                       2      0\n",
              "3331       13332    CT  ...                       2      0\n",
              "3332       13333    TN  ...                       0      0\n",
              "\n",
              "[3333 rows x 22 columns]"
            ]
          },
          "metadata": {}
        }
      ]
    },
    {
      "cell_type": "markdown",
      "metadata": {
        "id": "CGlO1tYgSI4Y"
      },
      "source": [
        "# Asiakaspoistuman ennustemalli\n",
        "\n",
        "Ennustemallia varten muodostetaan datasetti, jota voidaan käyttää koneoppimismallin koulutuksessa. Muodostetaan kaksi DataFramea df_churn -dataFramesta:\n",
        "- X sisältää asiakasdatan \n",
        "- Y sisältää tiedon siitä, onko ko. asiakas keskeyttänyt asiakkuuden"
      ]
    },
    {
      "cell_type": "code",
      "metadata": {
        "id": "VfjDwUtnUuvd"
      },
      "source": [
        " X = df_churn.drop([\"Churn\", \"account_id\"], axis = 1)\n",
        " y = df_churn[\"Churn\"]"
      ],
      "execution_count": null,
      "outputs": []
    },
    {
      "cell_type": "code",
      "metadata": {
        "id": "JTvwOMKFAbpV"
      },
      "source": [
        "X_train, X_test, y_train, y_test = train_test_split(X, y, test_size = 0.2, random_state = 0)"
      ],
      "execution_count": null,
      "outputs": []
    },
    {
      "cell_type": "code",
      "metadata": {
        "id": "y07dRr9OVc9j"
      },
      "source": [
        "\n",
        "classifier = RandomForestClassifier(n_estimators=200, random_state=0)  \n",
        "classifier.fit(X_train, y_train)  \n",
        "predictions = classifier.predict(X_test)"
      ],
      "execution_count": null,
      "outputs": []
    },
    {
      "cell_type": "code",
      "metadata": {
        "colab": {
          "base_uri": "https://localhost:8080/"
        },
        "id": "DFdKuNdJWeiS",
        "outputId": "7059580b-7819-4d2c-df42-f40c41c5874e"
      },
      "source": [
        "\n",
        "print(classification_report(y_test,predictions ))  \n",
        "print(\"Accuracy:\",(accuracy_score(y_test, predictions )))"
      ],
      "execution_count": null,
      "outputs": [
        {
          "output_type": "stream",
          "name": "stdout",
          "text": [
            "              precision    recall  f1-score   support\n",
            "\n",
            "       False       0.93      0.99      0.96       581\n",
            "        True       0.88      0.52      0.66        86\n",
            "\n",
            "    accuracy                           0.93       667\n",
            "   macro avg       0.91      0.76      0.81       667\n",
            "weighted avg       0.93      0.93      0.92       667\n",
            "\n",
            "Accuracy: 0.9295352323838081\n"
          ]
        }
      ]
    },
    {
      "cell_type": "markdown",
      "metadata": {
        "id": "QtnRok09X7li"
      },
      "source": [
        "# Miten ennustemallin tunnuslukuja luetaan\n",
        " - Precision\n",
        " - Recall\n",
        " - Accuracy\n",
        "\n",
        " Minkä takia pelkkä accuracy voi olla harjaanjohtava mittari? Vinkki: Tarkista asiakaspoistumaaineiston jakauma"
      ]
    },
    {
      "cell_type": "code",
      "metadata": {
        "colab": {
          "base_uri": "https://localhost:8080/",
          "height": 282
        },
        "id": "IJl8GPewWgKS",
        "outputId": "15e56324-0de1-4b3f-eb96-8415c61edcad"
      },
      "source": [
        "feat_importances = pd.Series(classifier.feature_importances_, index=X.columns)\n",
        "feat_importances.nlargest(10).plot(kind='barh')"
      ],
      "execution_count": null,
      "outputs": [
        {
          "output_type": "execute_result",
          "data": {
            "text/plain": [
              "<matplotlib.axes._subplots.AxesSubplot at 0x7f326260d810>"
            ]
          },
          "metadata": {},
          "execution_count": 58
        },
        {
          "output_type": "display_data",
          "data": {
            "image/png": "[encoded data removed]",
            "text/plain": [
              "<Figure size 432x288 with 1 Axes>"
            ]
          },
          "metadata": {
            "needs_background": "light"
          }
        }
      ]
    },
    {
      "cell_type": "markdown",
      "metadata": {
        "id": "T9t_CHAwenQF"
      },
      "source": [
        "# New Section"
      ]
    },
    {
      "cell_type": "code",
      "metadata": {
        "id": "Il3oJ0h6XgTR"
      },
      "source": [
        "# TODO case ympärille\n",
        "# validationsetti\n",
        "\n",
        "# miten tätä käytetään, kysymyksenä"
      ],
      "execution_count": null,
      "outputs": []
    }
  ]
}